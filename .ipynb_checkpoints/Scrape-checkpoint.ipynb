{
 "cells": [
  {
   "cell_type": "code",
   "execution_count": 1,
   "metadata": {
    "collapsed": false
   },
   "outputs": [],
   "source": [
    "%matplotlib inline\n",
    "import pprint  \n",
    "import math\n",
    "import numpy as np\n",
    "import numpy.random as npr\n",
    "import pandas as pd\n",
    "import random\n",
    "from scipy import stats\n",
    "from scipy.stats import norm\n",
    "import seaborn as sns\n",
    "import matplotlib.pyplot as plt\n",
    "from sklearn.utils.extmath import cartesian\n",
    "from bs4 import BeautifulSoup\n",
    "import requests\n",
    "import csv\n",
    "import mechanize \n",
    "import time\n",
    "import re\n",
    "from collections import defaultdict\n",
    "import SECEdgar\n",
    "from SECEdgar.crawler import SecCrawler"
   ]
  },
  {
   "cell_type": "code",
   "execution_count": 5,
   "metadata": {
    "collapsed": false
   },
   "outputs": [
    {
     "name": "stdout",
     "output_type": "stream",
     "text": [
      "started !0-KAAPL\n",
      "('Number of files to download %s', 10)\n",
      "Starting download....\n",
      "Not able to save the file :( \n",
      "Successfully downloaded all the files\n"
     ]
    }
   ],
   "source": [
    "#secCrawler = SecCrawler()\n",
    "#secCrawler.filing_10K('AAPL', '0000320193', '20080101', '10')"
   ]
  },
  {
   "cell_type": "code",
   "execution_count": 2,
   "metadata": {
    "collapsed": false
   },
   "outputs": [
    {
     "name": "stdout",
     "output_type": "stream",
     "text": [
      "Path of the directory where data will be saved: /Users/gordontsai/anaconda/lib/python2.7/site-packages/SECEdgar-0.1.2-py2.7.egg/SEC-Edgar-Data\n",
      "started 10-Q AAPL\n"
     ]
    },
    {
     "name": "stderr",
     "output_type": "stream",
     "text": [
      "/Users/gordontsai/anaconda/lib/python2.7/site-packages/bs4/__init__.py:181: UserWarning: No parser was explicitly specified, so I'm using the best available HTML parser for this system (\"lxml\"). This usually isn't a problem, but if you run this code on another system, or in a different virtual environment, it may use a different parser and behave differently.\n",
      "\n",
      "The code that caused this warning is on line 174 of the file /Users/gordontsai/anaconda/lib/python2.7/runpy.py. To get rid of this warning, change code that looks like this:\n",
      "\n",
      " BeautifulSoup([your markup])\n",
      "\n",
      "to this:\n",
      "\n",
      " BeautifulSoup([your markup], \"lxml\")\n",
      "\n",
      "  markup_type=markup_type))\n"
     ]
    },
    {
     "name": "stdout",
     "output_type": "stream",
     "text": [
      "Number of files to download 10\n",
      "Starting download....\n",
      "Successfully downloaded all the files\n",
      "started 10-K AAPL\n",
      "Number of files to download 8\n",
      "Starting download....\n",
      "Successfully downloaded all the files\n",
      "started 8-KAAPL\n",
      "Number of files to download 10\n",
      "Starting download....\n",
      "Successfully downloaded all the files\n",
      "started 10-Q AAPL\n",
      "Number of files to download 0\n",
      "Starting download....\n",
      "Successfully downloaded all the files\n",
      "Total Time taken:  25.2661738396\n",
      "Path of the directory where data will be saved: /Users/gordontsai/anaconda/lib/python2.7/site-packages/SECEdgar-0.1.2-py2.7.egg/SEC-Edgar-Data\n",
      "started 10-Q AAPL\n",
      "Number of files to download 10\n",
      "Starting download....\n",
      "Successfully downloaded all the files\n",
      "started 10-K AAPL\n",
      "Number of files to download 8\n",
      "Starting download....\n",
      "Successfully downloaded all the files\n",
      "started 8-KAAPL\n",
      "Number of files to download 10\n",
      "Starting download....\n",
      "Successfully downloaded all the files\n",
      "started 10-Q AAPL\n",
      "Number of files to download 0\n",
      "Starting download....\n",
      "Successfully downloaded all the files\n",
      "Total Time taken:  13.0921320915\n"
     ]
    }
   ],
   "source": [
    "import time\n",
    "from SECEdgar.crawler import SecCrawler\n",
    "\n",
    "def get_filings():\n",
    "\tt1 = time.time()\n",
    "\t\n",
    "\t# create object\n",
    "\tseccrawler = SecCrawler()\n",
    "\n",
    "\tcompanyCode = 'AAPL'    # company code for apple \n",
    "\tcik = '0000320193'      # cik code for apple\n",
    "\tdate = '20010101'       # date from which filings should be downloaded\n",
    "\tcount = '10'            # no of filings\n",
    "\t\n",
    "\tseccrawler.filing_10Q(str(companyCode), str(cik), str(date), str(count))\n",
    "\tseccrawler.filing_10K(str(companyCode), str(cik), str(date), str(count))\n",
    "\tseccrawler.filing_8K(str(companyCode), str(cik), str(date), str(count))\n",
    "\tseccrawler.filing_13F(str(companyCode), str(cik), str(date), str(count))\n",
    "\n",
    "\tt2 = time.time()\n",
    "\tprint (\"Total Time taken: \"),\n",
    "\tprint (t2-t1)\n",
    "\t\n",
    "if __name__ == '__main__':\n",
    "\tget_filings()\t\n",
    "    \n",
    "get_filings()"
   ]
  },
  {
   "cell_type": "code",
   "execution_count": 7,
   "metadata": {
    "collapsed": true
   },
   "outputs": [],
   "source": [
    "def Open_Browser(url, page):\n",
    "    br.open(url+str(page))\n",
    "    response = br.response()\n",
    "    soup = BeautifulSoup(response,\"html.parser\")\n",
    "    return soup"
   ]
  },
  {
   "cell_type": "code",
   "execution_count": null,
   "metadata": {
    "collapsed": true
   },
   "outputs": [],
   "source": []
  },
  {
   "cell_type": "code",
   "execution_count": null,
   "metadata": {
    "collapsed": true
   },
   "outputs": [],
   "source": [
    "https://www.sec.gov/cgi-bin/viewer?action=view&cik=1018724&accession_number=0001018724-16-000324&xbrl_type=v\n",
    "    "
   ]
  }
 ],
 "metadata": {
  "anaconda-cloud": {},
  "kernelspec": {
   "display_name": "Python [default]",
   "language": "python",
   "name": "python2"
  },
  "language_info": {
   "codemirror_mode": {
    "name": "ipython",
    "version": 2
   },
   "file_extension": ".py",
   "mimetype": "text/x-python",
   "name": "python",
   "nbconvert_exporter": "python",
   "pygments_lexer": "ipython2",
   "version": "2.7.12"
  }
 },
 "nbformat": 4,
 "nbformat_minor": 1
}
